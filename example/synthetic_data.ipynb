{
 "cells": [
  {
   "cell_type": "code",
   "execution_count": 3,
   "metadata": {},
   "outputs": [
    {
     "name": "stdout",
     "output_type": "stream",
     "text": [
      "The autoreload extension is already loaded. To reload it, use:\n",
      "  %reload_ext autoreload\n"
     ]
    }
   ],
   "source": [
    "import sys\n",
    "sys.path.append('../src/')\n",
    "%load_ext autoreload"
   ]
  },
  {
   "cell_type": "code",
   "execution_count": 7,
   "metadata": {},
   "outputs": [],
   "source": [
    "%autoreload 1\n",
    "%aimport train\n",
    "%aimport utils\n",
    "%aimport model"
   ]
  },
  {
   "cell_type": "code",
   "execution_count": 11,
   "metadata": {},
   "outputs": [],
   "source": [
    "import tensorflow as tf\n",
    "import numpy as np"
   ]
  },
  {
   "cell_type": "code",
   "execution_count": 27,
   "metadata": {},
   "outputs": [],
   "source": [
    "synthetic_data = utils.generate_data(2000, 5, 2)\n",
    "train_dataset, test_dataset = utils.data_loader(data)"
   ]
  },
  {
   "cell_type": "code",
   "execution_count": 25,
   "metadata": {},
   "outputs": [
    {
     "name": "stdout",
     "output_type": "stream",
     "text": [
      "(100, 5)\n",
      "(100, 5)\n",
      "(100, 5)\n",
      "(100, 5)\n",
      "(100, 5)\n",
      "(100, 5)\n",
      "(100, 5)\n",
      "(100, 5)\n",
      "(100, 5)\n",
      "(100, 5)\n",
      "(100, 5)\n",
      "(100, 5)\n",
      "(100, 5)\n",
      "(100, 5)\n",
      "(100, 5)\n",
      "(100, 5)\n",
      "(100, 5)\n",
      "(100, 5)\n",
      "(100, 5)\n",
      "(100, 5)\n",
      "(100, 5)\n",
      "(100, 5)\n",
      "(100, 5)\n",
      "(100, 5)\n",
      "(100, 5)\n",
      "(100, 5)\n",
      "(100, 5)\n",
      "(100, 5)\n",
      "(100, 5)\n",
      "(100, 5)\n",
      "(100, 5)\n",
      "(100, 5)\n",
      "(100, 5)\n",
      "(100, 5)\n",
      "(100, 5)\n",
      "(100, 5)\n",
      "(100, 5)\n",
      "(100, 5)\n",
      "(100, 5)\n",
      "(100, 5)\n",
      "(100, 5)\n",
      "(100, 5)\n",
      "(100, 5)\n",
      "(100, 5)\n",
      "(100, 5)\n",
      "(100, 5)\n",
      "(100, 5)\n",
      "(100, 5)\n",
      "(100, 5)\n",
      "(100, 5)\n"
     ]
    }
   ],
   "source": [
    "i = 3\n",
    "for elem, elem2 in train_dataset:\n",
    "    print(elem.numpy().shape)"
   ]
  },
  {
   "cell_type": "code",
   "execution_count": 20,
   "metadata": {},
   "outputs": [
    {
     "ename": "AttributeError",
     "evalue": "'BatchDataset' object has no attribute 'shape'",
     "output_type": "error",
     "traceback": [
      "\u001b[1;31m---------------------------------------------------------------------------\u001b[0m",
      "\u001b[1;31mAttributeError\u001b[0m                            Traceback (most recent call last)",
      "\u001b[1;32m<ipython-input-20-034a395b2f60>\u001b[0m in \u001b[0;36m<module>\u001b[1;34m\u001b[0m\n\u001b[1;32m----> 1\u001b[1;33m \u001b[0mtrain_dataset\u001b[0m\u001b[1;33m.\u001b[0m\u001b[0mshape\u001b[0m\u001b[1;33m\u001b[0m\u001b[1;33m\u001b[0m\u001b[0m\n\u001b[0m",
      "\u001b[1;31mAttributeError\u001b[0m: 'BatchDataset' object has no attribute 'shape'"
     ]
    }
   ],
   "source": [
    "train_dataset.shape"
   ]
  },
  {
   "cell_type": "code",
   "execution_count": null,
   "metadata": {},
   "outputs": [],
   "source": []
  }
 ],
 "metadata": {
  "kernelspec": {
   "display_name": "Python 3",
   "language": "python",
   "name": "python3"
  },
  "language_info": {
   "codemirror_mode": {
    "name": "ipython",
    "version": 3
   },
   "file_extension": ".py",
   "mimetype": "text/x-python",
   "name": "python",
   "nbconvert_exporter": "python",
   "pygments_lexer": "ipython3",
   "version": "3.7.6"
  }
 },
 "nbformat": 4,
 "nbformat_minor": 4
}
